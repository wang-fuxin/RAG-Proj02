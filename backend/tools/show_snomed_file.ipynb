{
 "cells": [
  {
   "cell_type": "code",
   "execution_count": 2,
   "metadata": {},
   "outputs": [
    {
     "name": "stdout",
     "output_type": "stream",
     "text": [
      "数据形状: (5002, 11)\n",
      "列名: ['concept_id', 'concept_name', 'domain_id', 'vocabulary_id', 'concept_class_id', 'standard_concept', 'concept_code', 'valid_start_date', 'valid_end_date', 'invalid_reason', 'FSN']\n",
      "\n",
      "随机5行数据:\n",
      "      concept_id                                              concept_name  \\\n",
      "1546    45763217                   Gastroduodenal motility analysis system   \n",
      "1683    37019121       Entire muscle acting on lumbar intervertebral joint   \n",
      "4645    46270562  History of small vessel disease due to diabetes mellitus   \n",
      "11       4293737      Surgical margin involved by ductal carcinoma in situ   \n",
      "3733    37303904                        Structure of retropharyngeal space   \n",
      "\n",
      "               domain_id vocabulary_id   concept_class_id standard_concept  \\\n",
      "1546              Device        SNOMED    Physical Object                S   \n",
      "1683  Spec Anatomic Site        SNOMED     Body Structure                S   \n",
      "4645         Observation        SNOMED  Context-dependent              NaN   \n",
      "11           Measurement        SNOMED   Clinical Finding                S   \n",
      "3733  Spec Anatomic Site        SNOMED     Body Structure                S   \n",
      "\n",
      "        concept_code  valid_start_date  valid_end_date  invalid_reason  \\\n",
      "1546       470253007          20140731        20991231             NaN   \n",
      "1683       714363004          20160131        20991231             NaN   \n",
      "4645  59801000119102          20150731        20991231             NaN   \n",
      "11         384688004          20030131        20991231             NaN   \n",
      "3733       789564000          20200131        20991231             NaN   \n",
      "\n",
      "                                                                       FSN  \n",
      "1546             Gastroduodenal motility analysis system (physical object)  \n",
      "1683  Entire muscle acting on lumbar intervertebral joint (body structure)  \n",
      "4645  History of small vessel disease due to diabetes mellitus (situation)  \n",
      "11          Surgical margin involved by ductal carcinoma in situ (finding)  \n",
      "3733                   Structure of retropharyngeal space (body structure)  \n"
     ]
    }
   ],
   "source": [
    "# display the snomed file\n",
    "import pandas as pd\n",
    "\n",
    "df = pd.read_csv('../data/SNOMED_5000.csv',\n",
    "                low_memory=False\n",
    "                )\n",
    "\n",
    "# 显示数据的基本信息\n",
    "print(\"数据形状:\", df.shape)\n",
    "print(\"列名:\", df.columns.tolist())\n",
    "\n",
    "# 随机展示5行数据的完整内容\n",
    "print(\"\\n随机5行数据:\")\n",
    "pd.set_option('display.max_columns', None)  # 显示所有列\n",
    "pd.set_option('display.width', None)  # 显示所有内容不截断\n",
    "pd.set_option('display.max_colwidth', None)  # 显示每列的完整内容\n",
    "print(df.sample(5))  # 使用sample方法随机抽取5行"
   ]
  },
  {
   "cell_type": "code",
   "execution_count": 3,
   "metadata": {},
   "outputs": [
    {
     "name": "stdout",
     "output_type": "stream",
     "text": [
      "\n",
      "数据类型和非空值统计:\n",
      "<class 'pandas.core.frame.DataFrame'>\n",
      "RangeIndex: 5002 entries, 0 to 5001\n",
      "Data columns (total 11 columns):\n",
      " #   Column            Non-Null Count  Dtype  \n",
      "---  ------            --------------  -----  \n",
      " 0   concept_id        5002 non-null   int64  \n",
      " 1   concept_name      5002 non-null   object \n",
      " 2   domain_id         5002 non-null   object \n",
      " 3   vocabulary_id     5002 non-null   object \n",
      " 4   concept_class_id  5002 non-null   object \n",
      " 5   standard_concept  4191 non-null   object \n",
      " 6   concept_code      5002 non-null   int64  \n",
      " 7   valid_start_date  5002 non-null   int64  \n",
      " 8   valid_end_date    5002 non-null   int64  \n",
      " 9   invalid_reason    0 non-null      float64\n",
      " 10  FSN               4499 non-null   object \n",
      "dtypes: float64(1), int64(4), object(6)\n",
      "memory usage: 430.0+ KB\n",
      "None\n"
     ]
    }
   ],
   "source": [
    "# 显示每列的数据类型和非空值数量\n",
    "print(\"\\n数据类型和非空值统计:\")\n",
    "print(df.info())\n",
    "\n",
    "# 显示数值列的统计摘要\n",
    "# print(\"\\n数值列统计摘要:\")\n",
    "# print(df.describe())"
   ]
  },
  {
   "cell_type": "code",
   "execution_count": 4,
   "metadata": {},
   "outputs": [
    {
     "name": "stdout",
     "output_type": "stream",
     "text": [
      "\n",
      "包含'Chronic back pain的概念:\n",
      "找到 0 条包含'backpain'的记录\n",
      "Empty DataFrame\n",
      "Columns: [concept_code, concept_name, domain_id, concept_class_id]\n",
      "Index: []\n"
     ]
    }
   ],
   "source": [
    "# 检索包含\"Headace\"的概念名称\n",
    "print(\"\\n包含'Chronic back pain的概念:\")\n",
    "backpain_concepts = df[df['concept_name'].str.contains('Chronic back pain', case=False, na=False)]\n",
    "print(f\"找到 {len(backpain_concepts)} 条包含'backpain'的记录\")\n",
    "print(backpain_concepts[['concept_code', 'concept_name', 'domain_id', 'concept_class_id']])"
   ]
  },
  {
   "cell_type": "code",
   "execution_count": 5,
   "metadata": {},
   "outputs": [
    {
     "name": "stdout",
     "output_type": "stream",
     "text": [
      "\n",
      "domain_id 和 concept_class_id 的列表:\n",
      "['Condition' 'Procedure' 'Observation' 'Measurement' 'Drug' 'Device'\n",
      " 'Spec Anatomic Site' 'Specimen' 'Unit' 'Metadata' 'Race' 'Meas Value'\n",
      " 'Type Concept' 'Provider' 'Relationship' 'Geography' 'Language' 'Route']\n",
      "['Disorder' 'Procedure' 'Observable Entity' 'Clinical Drug Form'\n",
      " 'Physical Object' 'Event' 'Organism' 'Clinical Finding' 'Body Structure'\n",
      " 'Pharma/Biol Product' 'Morph Abnormality' 'Specimen' 'Substance'\n",
      " 'Staging / Scales' 'Dose Form' 'Social Context' 'Qualifier Value'\n",
      " 'Context-dependent' 'Clinical Drug' 'Model Comp' 'Location'\n",
      " 'Record Artifact' 'Attribute' 'Navi Concept' 'Linkage Assertion'\n",
      " 'Disposition' 'Physical Force' 'Namespace Concept']\n"
     ]
    }
   ],
   "source": [
    "# domain_id 和 concept_class_id - 展示一下列表\n",
    "print(\"\\ndomain_id 和 concept_class_id 的列表:\")\n",
    "print(df['domain_id'].unique())\n",
    "print(df['concept_class_id'].unique())"
   ]
  },
  {
   "cell_type": "code",
   "execution_count": null,
   "metadata": {},
   "outputs": [],
   "source": []
  },
  {
   "cell_type": "code",
   "execution_count": null,
   "metadata": {},
   "outputs": [],
   "source": []
  },
  {
   "cell_type": "code",
   "execution_count": 8,
   "metadata": {},
   "outputs": [
    {
     "name": "stdout",
     "output_type": "stream",
     "text": [
      "\n",
      "包含'Dyspnea'的概念:\n",
      "找到 1 条包含'Dyspnea'的记录\n",
      "      concept_id concept_name  domain_id vocabulary_id  concept_class_id  \\\n",
      "5000      312437      Dyspnea  Condition        SNOMED  Clinical Finding   \n",
      "\n",
      "     standard_concept  concept_code  valid_start_date  valid_end_date  \\\n",
      "5000                S     267036007          20020131        20991231   \n",
      "\n",
      "      invalid_reason                FSN  \n",
      "5000             NaN  Dyspnea (finding)  \n",
      "      concept_code concept_name                FSN\n",
      "5000     267036007      Dyspnea  Dyspnea (finding)\n"
     ]
    }
   ],
   "source": [
    "# 检索包含\"Dyspnea\"的概念名称\n",
    "print(\"\\n包含'Dyspnea'的概念:\")\n",
    "dyspnea_concepts = df[df['concept_name'].str.contains('Dyspnea', case=False, na=False)]\n",
    "print(f\"找到 {len(dyspnea_concepts)} 条包含'Dyspnea'的记录\")\n",
    "print(dyspnea_concepts)\n",
    "print(dyspnea_concepts[['concept_code', 'concept_name', 'FSN']])"
   ]
  },
  {
   "cell_type": "code",
   "execution_count": null,
   "metadata": {},
   "outputs": [],
   "source": []
  },
  {
   "cell_type": "code",
   "execution_count": 11,
   "metadata": {},
   "outputs": [
    {
     "name": "stdout",
     "output_type": "stream",
     "text": [
      "\n",
      "检索第3212行的数据:\n",
      "concept_id                                                                                                                                               36683710\n",
      "concept_name                                                                                           Bupivacaine hydrochloride 2.5 mg/mL solution for injection\n",
      "domain_id                                                                                                                                                    Drug\n",
      "vocabulary_id                                                                                                                                              SNOMED\n",
      "concept_class_id                                                                                                                                    Clinical Drug\n",
      "standard_concept                                                                                                                                              NaN\n",
      "concept_code                                                                                                                                            781792005\n",
      "valid_start_date                                                                                                                                         20190131\n",
      "valid_end_date                                                                                                                                           20991231\n",
      "invalid_reason                                                                                                                                                NaN\n",
      "FSN                 Product containing precisely bupivacaine hydrochloride 2.5 milligram/1 milliliter conventional release solution for injection (clinical drug)\n",
      "Name: 3212, dtype: object\n"
     ]
    }
   ],
   "source": [
    "# 321341 - 拿这个索引号， 第321341行\n",
    "print(\"\\n检索第3212行的数据:\")\n",
    "print(df.iloc[3212])"
   ]
  },
  {
   "cell_type": "code",
   "execution_count": null,
   "metadata": {},
   "outputs": [],
   "source": []
  },
  {
   "cell_type": "code",
   "execution_count": null,
   "metadata": {},
   "outputs": [],
   "source": []
  },
  {
   "cell_type": "code",
   "execution_count": null,
   "metadata": {},
   "outputs": [],
   "source": []
  },
  {
   "cell_type": "code",
   "execution_count": 14,
   "metadata": {},
   "outputs": [
    {
     "name": "stdout",
     "output_type": "stream",
     "text": [
      "\n",
      "尝试模糊匹配:\n"
     ]
    },
    {
     "ename": "AttributeError",
     "evalue": "Can only use .str accessor with string values!",
     "output_type": "error",
     "traceback": [
      "\u001b[0;31m---------------------------------------------------------------------------\u001b[0m",
      "\u001b[0;31mAttributeError\u001b[0m                            Traceback (most recent call last)",
      "Cell \u001b[0;32mIn[14], line 3\u001b[0m\n\u001b[1;32m      1\u001b[0m \u001b[38;5;66;03m# 尝试使用模糊匹配\u001b[39;00m\n\u001b[1;32m      2\u001b[0m \u001b[38;5;28mprint\u001b[39m(\u001b[38;5;124m\"\u001b[39m\u001b[38;5;130;01m\\n\u001b[39;00m\u001b[38;5;124m尝试模糊匹配:\u001b[39m\u001b[38;5;124m\"\u001b[39m)\n\u001b[0;32m----> 3\u001b[0m fuzzy_matches \u001b[38;5;241m=\u001b[39m df[\u001b[43mdf\u001b[49m\u001b[43m[\u001b[49m\u001b[38;5;124;43m'\u001b[39;49m\u001b[38;5;124;43mconcept_code\u001b[39;49m\u001b[38;5;124;43m'\u001b[39;49m\u001b[43m]\u001b[49m\u001b[38;5;241;43m.\u001b[39;49m\u001b[43mstr\u001b[49m\u001b[38;5;241m.\u001b[39mcontains(\u001b[38;5;124m'\u001b[39m\u001b[38;5;124m7036\u001b[39m\u001b[38;5;124m'\u001b[39m, na\u001b[38;5;241m=\u001b[39m\u001b[38;5;28;01mFalse\u001b[39;00m)]\n\u001b[1;32m      4\u001b[0m \u001b[38;5;28;01mif\u001b[39;00m \u001b[38;5;28mlen\u001b[39m(fuzzy_matches) \u001b[38;5;241m>\u001b[39m \u001b[38;5;241m0\u001b[39m:\n\u001b[1;32m      5\u001b[0m     \u001b[38;5;28mprint\u001b[39m(\u001b[38;5;124m\"\u001b[39m\u001b[38;5;124m找到的模糊匹配:\u001b[39m\u001b[38;5;124m\"\u001b[39m)\n",
      "File \u001b[0;32m/Volumes/SSD4T/AI_LLM/RAG-train/rag-project02-medical-nlp-box/.venv/lib/python3.10/site-packages/pandas/core/generic.py:6318\u001b[0m, in \u001b[0;36mNDFrame.__getattr__\u001b[0;34m(self, name)\u001b[0m\n\u001b[1;32m   6311\u001b[0m \u001b[38;5;28;01mif\u001b[39;00m (\n\u001b[1;32m   6312\u001b[0m     name \u001b[38;5;129;01mnot\u001b[39;00m \u001b[38;5;129;01min\u001b[39;00m \u001b[38;5;28mself\u001b[39m\u001b[38;5;241m.\u001b[39m_internal_names_set\n\u001b[1;32m   6313\u001b[0m     \u001b[38;5;129;01mand\u001b[39;00m name \u001b[38;5;129;01mnot\u001b[39;00m \u001b[38;5;129;01min\u001b[39;00m \u001b[38;5;28mself\u001b[39m\u001b[38;5;241m.\u001b[39m_metadata\n\u001b[1;32m   6314\u001b[0m     \u001b[38;5;129;01mand\u001b[39;00m name \u001b[38;5;129;01mnot\u001b[39;00m \u001b[38;5;129;01min\u001b[39;00m \u001b[38;5;28mself\u001b[39m\u001b[38;5;241m.\u001b[39m_accessors\n\u001b[1;32m   6315\u001b[0m     \u001b[38;5;129;01mand\u001b[39;00m \u001b[38;5;28mself\u001b[39m\u001b[38;5;241m.\u001b[39m_info_axis\u001b[38;5;241m.\u001b[39m_can_hold_identifiers_and_holds_name(name)\n\u001b[1;32m   6316\u001b[0m ):\n\u001b[1;32m   6317\u001b[0m     \u001b[38;5;28;01mreturn\u001b[39;00m \u001b[38;5;28mself\u001b[39m[name]\n\u001b[0;32m-> 6318\u001b[0m \u001b[38;5;28;01mreturn\u001b[39;00m \u001b[38;5;28;43mobject\u001b[39;49m\u001b[38;5;241;43m.\u001b[39;49m\u001b[38;5;21;43m__getattribute__\u001b[39;49m\u001b[43m(\u001b[49m\u001b[38;5;28;43mself\u001b[39;49m\u001b[43m,\u001b[49m\u001b[43m \u001b[49m\u001b[43mname\u001b[49m\u001b[43m)\u001b[49m\n",
      "File \u001b[0;32m/Volumes/SSD4T/AI_LLM/RAG-train/rag-project02-medical-nlp-box/.venv/lib/python3.10/site-packages/pandas/core/accessor.py:224\u001b[0m, in \u001b[0;36mCachedAccessor.__get__\u001b[0;34m(self, obj, cls)\u001b[0m\n\u001b[1;32m    221\u001b[0m \u001b[38;5;28;01mif\u001b[39;00m obj \u001b[38;5;129;01mis\u001b[39;00m \u001b[38;5;28;01mNone\u001b[39;00m:\n\u001b[1;32m    222\u001b[0m     \u001b[38;5;66;03m# we're accessing the attribute of the class, i.e., Dataset.geo\u001b[39;00m\n\u001b[1;32m    223\u001b[0m     \u001b[38;5;28;01mreturn\u001b[39;00m \u001b[38;5;28mself\u001b[39m\u001b[38;5;241m.\u001b[39m_accessor\n\u001b[0;32m--> 224\u001b[0m accessor_obj \u001b[38;5;241m=\u001b[39m \u001b[38;5;28;43mself\u001b[39;49m\u001b[38;5;241;43m.\u001b[39;49m\u001b[43m_accessor\u001b[49m\u001b[43m(\u001b[49m\u001b[43mobj\u001b[49m\u001b[43m)\u001b[49m\n\u001b[1;32m    225\u001b[0m \u001b[38;5;66;03m# Replace the property with the accessor object. Inspired by:\u001b[39;00m\n\u001b[1;32m    226\u001b[0m \u001b[38;5;66;03m# https://www.pydanny.com/cached-property.html\u001b[39;00m\n\u001b[1;32m    227\u001b[0m \u001b[38;5;66;03m# We need to use object.__setattr__ because we overwrite __setattr__ on\u001b[39;00m\n\u001b[1;32m    228\u001b[0m \u001b[38;5;66;03m# NDFrame\u001b[39;00m\n\u001b[1;32m    229\u001b[0m \u001b[38;5;28mobject\u001b[39m\u001b[38;5;241m.\u001b[39m\u001b[38;5;21m__setattr__\u001b[39m(obj, \u001b[38;5;28mself\u001b[39m\u001b[38;5;241m.\u001b[39m_name, accessor_obj)\n",
      "File \u001b[0;32m/Volumes/SSD4T/AI_LLM/RAG-train/rag-project02-medical-nlp-box/.venv/lib/python3.10/site-packages/pandas/core/strings/accessor.py:194\u001b[0m, in \u001b[0;36mStringMethods.__init__\u001b[0;34m(self, data)\u001b[0m\n\u001b[1;32m    191\u001b[0m \u001b[38;5;28;01mdef\u001b[39;00m\u001b[38;5;250m \u001b[39m\u001b[38;5;21m__init__\u001b[39m(\u001b[38;5;28mself\u001b[39m, data) \u001b[38;5;241m-\u001b[39m\u001b[38;5;241m>\u001b[39m \u001b[38;5;28;01mNone\u001b[39;00m:\n\u001b[1;32m    192\u001b[0m     \u001b[38;5;28;01mfrom\u001b[39;00m\u001b[38;5;250m \u001b[39m\u001b[38;5;21;01mpandas\u001b[39;00m\u001b[38;5;21;01m.\u001b[39;00m\u001b[38;5;21;01mcore\u001b[39;00m\u001b[38;5;21;01m.\u001b[39;00m\u001b[38;5;21;01marrays\u001b[39;00m\u001b[38;5;21;01m.\u001b[39;00m\u001b[38;5;21;01mstring_\u001b[39;00m\u001b[38;5;250m \u001b[39m\u001b[38;5;28;01mimport\u001b[39;00m StringDtype\n\u001b[0;32m--> 194\u001b[0m     \u001b[38;5;28mself\u001b[39m\u001b[38;5;241m.\u001b[39m_inferred_dtype \u001b[38;5;241m=\u001b[39m \u001b[38;5;28;43mself\u001b[39;49m\u001b[38;5;241;43m.\u001b[39;49m\u001b[43m_validate\u001b[49m\u001b[43m(\u001b[49m\u001b[43mdata\u001b[49m\u001b[43m)\u001b[49m\n\u001b[1;32m    195\u001b[0m     \u001b[38;5;28mself\u001b[39m\u001b[38;5;241m.\u001b[39m_is_categorical \u001b[38;5;241m=\u001b[39m \u001b[38;5;28misinstance\u001b[39m(data\u001b[38;5;241m.\u001b[39mdtype, CategoricalDtype)\n\u001b[1;32m    196\u001b[0m     \u001b[38;5;28mself\u001b[39m\u001b[38;5;241m.\u001b[39m_is_string \u001b[38;5;241m=\u001b[39m \u001b[38;5;28misinstance\u001b[39m(data\u001b[38;5;241m.\u001b[39mdtype, StringDtype)\n",
      "File \u001b[0;32m/Volumes/SSD4T/AI_LLM/RAG-train/rag-project02-medical-nlp-box/.venv/lib/python3.10/site-packages/pandas/core/strings/accessor.py:248\u001b[0m, in \u001b[0;36mStringMethods._validate\u001b[0;34m(data)\u001b[0m\n\u001b[1;32m    245\u001b[0m inferred_dtype \u001b[38;5;241m=\u001b[39m lib\u001b[38;5;241m.\u001b[39minfer_dtype(values, skipna\u001b[38;5;241m=\u001b[39m\u001b[38;5;28;01mTrue\u001b[39;00m)\n\u001b[1;32m    247\u001b[0m \u001b[38;5;28;01mif\u001b[39;00m inferred_dtype \u001b[38;5;129;01mnot\u001b[39;00m \u001b[38;5;129;01min\u001b[39;00m allowed_types:\n\u001b[0;32m--> 248\u001b[0m     \u001b[38;5;28;01mraise\u001b[39;00m \u001b[38;5;167;01mAttributeError\u001b[39;00m(\u001b[38;5;124m\"\u001b[39m\u001b[38;5;124mCan only use .str accessor with string values!\u001b[39m\u001b[38;5;124m\"\u001b[39m)\n\u001b[1;32m    249\u001b[0m \u001b[38;5;28;01mreturn\u001b[39;00m inferred_dtype\n",
      "\u001b[0;31mAttributeError\u001b[0m: Can only use .str accessor with string values!"
     ]
    }
   ],
   "source": [
    "# 尝试使用模糊匹配\n",
    "print(\"\\n尝试模糊匹配:\")\n",
    "fuzzy_matches = df[df['concept_code'].str.contains('7036', na=False)]\n",
    "if len(fuzzy_matches) > 0:\n",
    "    print(\"找到的模糊匹配:\")\n",
    "    print(fuzzy_matches[['concept_code', 'concept_name']])\n",
    "\n",
    "# 检查Dyspnea相关的行\n",
    "print(\"\\n检查Dyspnea相关的行:\")\n",
    "dyspnea_rows = df[df['concept_name'].str.contains('Dyspnea', case=False, na=False)]\n",
    "print(dyspnea_rows[['concept_code', 'concept_name']])"
   ]
  },
  {
   "cell_type": "code",
   "execution_count": null,
   "metadata": {},
   "outputs": [],
   "source": []
  }
 ],
 "metadata": {
  "kernelspec": {
   "display_name": ".venv",
   "language": "python",
   "name": "python3"
  },
  "language_info": {
   "codemirror_mode": {
    "name": "ipython",
    "version": 3
   },
   "file_extension": ".py",
   "mimetype": "text/x-python",
   "name": "python",
   "nbconvert_exporter": "python",
   "pygments_lexer": "ipython3",
   "version": "3.10.18"
  }
 },
 "nbformat": 4,
 "nbformat_minor": 4
}
