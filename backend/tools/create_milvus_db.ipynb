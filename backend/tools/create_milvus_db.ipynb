{
 "cells": [
  {
   "cell_type": "code",
   "execution_count": null,
   "id": "1cca0457",
   "metadata": {},
   "outputs": [],
   "source": [
    "\n",
    "from pymilvus import MilvusClient\n",
    "# from pymilvus import model\n",
    "import pandas as pd\n",
    "from tqdm import tqdm\n",
    "import logging\n",
    "from dotenv import load_dotenv\n",
    "load_dotenv()\n",
    "import torch    \n",
    "from pymilvus import MilvusClient, DataType, FieldSchema, CollectionSchema"
   ]
  },
  {
   "cell_type": "code",
   "execution_count": null,
   "id": "cc4bea51",
   "metadata": {},
   "outputs": [],
   "source": [
    "\n",
    "# 设置日志\n",
    "logging.basicConfig(level=logging.INFO, format='%(asctime)s - %(levelname)s - %(message)s')"
   ]
  },
  {
   "cell_type": "code",
   "execution_count": null,
   "id": "480d4dda",
   "metadata": {},
   "outputs": [],
   "source": [
    "# 初始化 OpenAI 嵌入函数\n",
    "embedding_function = model.dense.SentenceTransformerEmbeddingFunction(\n",
    "            # model_name='nvidia/NV-Embed-v2', \n",
    "            # model_name='dunzhang/stella_en_1.5B_v5',\n",
    "            # model_name='all-mpnet-base-v2',\n",
    "            # model_name='intfloat/multilingual-e5-large-instruct',\n",
    "            # model_name='Alibaba-NLP/gte-Qwen2-1.5B-instruct',\n",
    "            model_name='BAAI/bge-m3',\n",
    "            # model_name='jinaai/jina-embeddings-v3',\n",
    "            device='cuda:0' if torch.cuda.is_available() else 'cpu',\n",
    "            trust_remote_code=True\n",
    "        )\n",
    "# embedding_function = model.dense.OpenAIEmbeddingFunction(model_name='text-embedding-3-large')\n"
   ]
  },
  {
   "cell_type": "code",
   "execution_count": null,
   "id": "2439c9c0",
   "metadata": {},
   "outputs": [],
   "source": [
    "# 文件路径\n",
    "file_path = \"backend/data/SNOMED_5000.csv\"\n",
    "db_path = \"backend/db/snomed_bge_m3.db\""
   ]
  },
  {
   "cell_type": "code",
   "execution_count": null,
   "id": "68cc37fa",
   "metadata": {},
   "outputs": [],
   "source": [
    "# 连接到 Milvus\n",
    "client = MilvusClient(db_path)\n",
    "\n",
    "collection_name = \"concepts_only_name\"\n",
    "# collection_name = \"concepts_with_synonym\""
   ]
  },
  {
   "cell_type": "code",
   "execution_count": null,
   "id": "4498207c",
   "metadata": {},
   "outputs": [],
   "source": [
    "# 加载数据\n",
    "logging.info(\"Loading data from CSV\")\n",
    "df = pd.read_csv(file_path, \n",
    "                 dtype=str, \n",
    "                low_memory=False,\n",
    "                 ).fillna(\"NA\")\n"
   ]
  },
  {
   "cell_type": "code",
   "execution_count": null,
   "id": "018fd877",
   "metadata": {},
   "outputs": [],
   "source": [
    "# 获取向量维度（使用一个样本文档）\n",
    "sample_doc = \"Sample Text\"\n",
    "sample_embedding = embedding_function([sample_doc])[0]\n",
    "vector_dim = len(sample_embedding)\n"
   ]
  },
  {
   "cell_type": "code",
   "execution_count": null,
   "id": "bea8319d",
   "metadata": {},
   "outputs": [],
   "source": [
    "# 构造Schema\n",
    "fields = [\n",
    "    FieldSchema(name=\"id\", dtype=DataType.INT64, is_primary=True, auto_id=True),\n",
    "    FieldSchema(name=\"vector\", dtype=DataType.FLOAT_VECTOR, dim=vector_dim), # BGE-m3 最重要\n",
    "    FieldSchema(name=\"concept_id\", dtype=DataType.VARCHAR, max_length=50),\n",
    "    FieldSchema(name=\"concept_name\", dtype=DataType.VARCHAR, max_length=200),\n",
    "    FieldSchema(name=\"domain_id\", dtype=DataType.VARCHAR, max_length=20),\n",
    "    FieldSchema(name=\"vocabulary_id\", dtype=DataType.VARCHAR, max_length=20),\n",
    "    FieldSchema(name=\"concept_class_id\", dtype=DataType.VARCHAR, max_length=20),\n",
    "    FieldSchema(name=\"standard_concept\", dtype=DataType.VARCHAR, max_length=1),\n",
    "    FieldSchema(name=\"concept_code\", dtype=DataType.VARCHAR, max_length=50),\n",
    "    FieldSchema(name=\"valid_start_date\", dtype=DataType.VARCHAR, max_length=10),\n",
    "    FieldSchema(name=\"valid_end_date\", dtype=DataType.VARCHAR, max_length=10),\n",
    "    # FieldSchema(name=\"full_name\", dtype=DataType.VARCHAR, max_length=500), # FSN\n",
    "    # FieldSchema(name=\"synonyms\", dtype=DataType.VARCHAR, max_length=1000), # 同义词\n",
    "    # FieldSchema(name=\"definitions\", dtype=DataType.VARCHAR, max_length=1000), # 定义\n",
    "    FieldSchema(name=\"input_file\", dtype=DataType.VARCHAR, max_length=500),\n",
    "]\n",
    "schema = CollectionSchema(fields, \n",
    "                          \"SNOMED-CT Concepts\", \n",
    "                          enable_dynamic_field=True)"
   ]
  },
  {
   "cell_type": "code",
   "execution_count": null,
   "id": "0b20446c",
   "metadata": {},
   "outputs": [],
   "source": [
    "# 如果集合不存在，创建集合\n",
    "if not client.has_collection(collection_name):\n",
    "    client.create_collection(\n",
    "        collection_name=collection_name,\n",
    "        schema=schema,\n",
    "        # dimension=vector_dim\n",
    "    )\n",
    "    logging.info(f\"Created new collection: {collection_name}\")\n"
   ]
  },
  {
   "cell_type": "code",
   "execution_count": null,
   "id": "398c9977",
   "metadata": {},
   "outputs": [],
   "source": [
    "# 在创建集合后添加索引\n",
    "index_params = client.prepare_index_params()\n",
    "index_params.add_index(\n",
    "    field_name=\"vector\",  # 指定要为哪个字段创建索引，这里是向量字段\n",
    "    index_type=\"AUTOINDEX\",  # 使用自动索引类型，Milvus会根据数据特性选择最佳索引\n",
    "    metric_type=\"COSINE\",  # 使用余弦相似度作为向量相似度度量方式\n",
    "    params={\"nlist\": 1024}  # 索引参数：nlist表示聚类中心的数量，值越大检索精度越高但速度越慢\n",
    ")\n",
    "\n",
    "client.create_index(\n",
    "    collection_name=collection_name,\n",
    "    index_params=index_params\n",
    ")"
   ]
  },
  {
   "cell_type": "code",
   "execution_count": null,
   "id": "e17081de",
   "metadata": {},
   "outputs": [],
   "source": [
    "# 批量处理\n",
    "batch_size = 1024\n",
    "\n",
    "for start_idx in tqdm(range(0, len(df), batch_size), desc=\"Processing batches\"):\n",
    "    end_idx = min(start_idx + batch_size, len(df))\n",
    "    batch_df = df.iloc[start_idx:end_idx]\n",
    "\n",
    "    # 准备文档\n",
    "    # docs = [f\"Term: {row['concept_name']}; Synonyms: {row['Synonyms']}\" for _, row in batch_df.iterrows()]\n",
    "    docs = []\n",
    "    for _, row in batch_df.iterrows():\n",
    "        doc_parts = [row['concept_name']]\n",
    "\n",
    "        # if row['Full Name'] != \"NA\" and row['Full Name'] != row['concept_name']:\n",
    "        #     doc_parts.append(\",Full Name: \" + row['Full Name'])\n",
    "\n",
    "        # if row['Synonyms'] != \"NA\" and row['Synonyms'] != row['concept_name']:\n",
    "        #     doc_parts.append(\", Synonyms: \" + row['Synonyms'])\n",
    "\n",
    "        # if row['Definitions'] != \"NA\" and row['Definitions'] not in [row['concept_name'], row.get('Full Name', '')]:\n",
    "        #     doc_parts.append(\", Definitions: \" + row['Definitions'])\n",
    "\n",
    "        docs.append(\" \".join(doc_parts))\n",
    "\n",
    "    # 生成嵌入\n",
    "    try:\n",
    "        embeddings = embedding_function(docs)\n",
    "        logging.info(f\"Generated embeddings for batch {start_idx // batch_size + 1}\")\n",
    "    except Exception as e:\n",
    "        logging.error(f\"Error generating embeddings for batch {start_idx // batch_size + 1}: {e}\")\n",
    "        continue\n",
    "\n",
    "    # 准备数据\n",
    "    data = [\n",
    "        {\n",
    "            # \"id\": idx + start_idx,\n",
    "            \"vector\": embeddings[idx],\n",
    "            \"concept_id\": str(row['concept_id']),\n",
    "            \"concept_name\": str(row['concept_name']),\n",
    "            \"domain_id\": str(row['domain_id']),\n",
    "            \"vocabulary_id\": str(row['vocabulary_id']),\n",
    "            \"concept_class_id\": str(row['concept_class_id']),\n",
    "            \"standard_concept\": str(row['standard_concept']),\n",
    "            \"concept_code\": str(row['concept_code']),\n",
    "            \"valid_start_date\": str(row['valid_start_date']),\n",
    "            \"valid_end_date\": str(row['valid_end_date']),\n",
    "            # \"invalid_reason\": str(row['invalid_reason']),\n",
    "            # \"full_name\": str(row['Full Name']),\n",
    "            # \"synonyms\": str(row['Synonyms']),\n",
    "            # \"definitions\": str(row['Definitions']),\n",
    "            \"input_file\": file_path\n",
    "        } for idx, (_, row) in enumerate(batch_df.iterrows())\n",
    "    ]\n",
    "\n",
    "    # 插入数据 - 1024个向量条目，即1024个医疗术语（标准概念）\n",
    "    try:\n",
    "        res = client.insert(\n",
    "            collection_name=collection_name,\n",
    "            data=data\n",
    "        )\n",
    "        logging.info(f\"Inserted batch {start_idx // batch_size + 1}, result: {res}\")\n",
    "    except Exception as e:\n",
    "        logging.error(f\"Error inserting batch {start_idx // batch_size + 1}: {e}\")"
   ]
  },
  {
   "cell_type": "code",
   "execution_count": null,
   "id": "6a400172",
   "metadata": {},
   "outputs": [],
   "source": [
    "logging.info(\"Insert process completed.\")\n"
   ]
  },
  {
   "cell_type": "code",
   "execution_count": null,
   "id": "0a79a5ce",
   "metadata": {},
   "outputs": [],
   "source": [
    "# 示例查询\n",
    "# query = \"somatic hallucination\"\n",
    "query = \"SOB\"\n",
    "query_embeddings = embedding_function([query])\n"
   ]
  },
  {
   "cell_type": "code",
   "execution_count": null,
   "id": "0bb1300c",
   "metadata": {},
   "outputs": [],
   "source": [
    "# 搜索余弦相似度最高的\n",
    "search_result = client.search(\n",
    "    collection_name=collection_name,\n",
    "    data=[query_embeddings[0].tolist()],\n",
    "    limit=5,\n",
    "    output_fields=[\"concept_name\", \n",
    "                #    \"synonyms\", \n",
    "                   \"concept_class_id\", \n",
    "                   ]\n",
    ")\n",
    "logging.info(f\"Search result for 'Somatic hallucination': {search_result}\")"
   ]
  },
  {
   "cell_type": "code",
   "execution_count": null,
   "id": "81eccb92",
   "metadata": {},
   "outputs": [],
   "source": [
    "# 查询所有匹配的实体\n",
    "query_result = client.query(\n",
    "    collection_name=collection_name,\n",
    "    filter=\"concept_name == 'Dyspnea'\",\n",
    "    output_fields=[\"concept_name\", \n",
    "                #    \"synonyms\", \n",
    "                   \"concept_class_id\", \n",
    "                   ],\n",
    "    limit=5\n",
    ")\n",
    "logging.info(f\"Query result for concept_name == 'Dyspnea': {query_result}\")\n"
   ]
  }
 ],
 "metadata": {
  "kernelspec": {
   "display_name": ".venv",
   "language": "python",
   "name": "python3"
  },
  "language_info": {
   "codemirror_mode": {
    "name": "ipython",
    "version": 3
   },
   "file_extension": ".py",
   "mimetype": "text/x-python",
   "name": "python",
   "nbconvert_exporter": "python",
   "pygments_lexer": "ipython3",
   "version": "3.10.18"
  }
 },
 "nbformat": 4,
 "nbformat_minor": 5
}
